{
 "cells": [
  {
   "cell_type": "markdown",
   "id": "1a67e201",
   "metadata": {},
   "source": [
    " 1 Write a code to reverse a string\n",
    "\n"
   ]
  },
  {
   "cell_type": "code",
   "execution_count": 4,
   "id": "a99954ee",
   "metadata": {},
   "outputs": [
    {
     "name": "stdout",
     "output_type": "stream",
     "text": [
      "Enter the string :pwskills\n",
      "sllikswp\n"
     ]
    }
   ],
   "source": [
    "str1=input(\"Enter the string :\")\n",
    "rev=str1[::-1]\n",
    "print(rev)"
   ]
  },
  {
   "cell_type": "code",
   "execution_count": 11,
   "id": "80ef726e",
   "metadata": {},
   "outputs": [
    {
     "name": "stdout",
     "output_type": "stream",
     "text": [
      "enter the String : shadab\n",
      "badahs"
     ]
    }
   ],
   "source": [
    "a=input(\"enter the String : \")\n",
    "l=len(a)\n",
    "for i in range(l-1,-1,-1):\n",
    "    print(a[i],end=\"\")\n"
   ]
  },
  {
   "cell_type": "markdown",
   "id": "804c526a",
   "metadata": {},
   "source": [
    "2 write a code to find the number of vowels in a string\n"
   ]
  },
  {
   "cell_type": "code",
   "execution_count": 6,
   "id": "dda5058a",
   "metadata": {},
   "outputs": [
    {
     "name": "stdout",
     "output_type": "stream",
     "text": [
      "Enter the string : pwskills\n",
      "1\n"
     ]
    }
   ],
   "source": [
    "str2=input(\"Enter the string : \")\n",
    "count=0\n",
    "vowels=(\"a\",\"e\",\"i\",\"o\",\"u\")\n",
    "for i in str2:\n",
    "    if i in vowels:\n",
    "        count=+1\n",
    "print(count)"
   ]
  },
  {
   "cell_type": "markdown",
   "id": "0103e78a",
   "metadata": {},
   "source": [
    "3.write a code to check if a given string is palindrome or not."
   ]
  },
  {
   "cell_type": "code",
   "execution_count": 10,
   "id": "ad39b294",
   "metadata": {},
   "outputs": [
    {
     "name": "stdout",
     "output_type": "stream",
     "text": [
      "Enter the string : mam\n",
      "Palindrome\n"
     ]
    }
   ],
   "source": [
    "pal_str=input(\"Enter the string : \")\n",
    "rev_str=pal_str[::-1]\n",
    "if pal_str==rev_str:\n",
    "    print(\"Palindrome\")\n",
    "else:\n",
    "    print(\"not a palindrome\")"
   ]
  },
  {
   "cell_type": "markdown",
   "id": "ebc9cdf4",
   "metadata": {},
   "source": [
    "4.write a code to check if two strings are anagrams of each other"
   ]
  },
  {
   "cell_type": "code",
   "execution_count": 6,
   "id": "4bb43c25",
   "metadata": {},
   "outputs": [
    {
     "name": "stdout",
     "output_type": "stream",
     "text": [
      "enter the string 1 :pwskills\n",
      "enter the string 2 :data analytics\n",
      "not anagrams\n"
     ]
    }
   ],
   "source": [
    "str1=input(\"enter the string 1 :\")\n",
    "str2=input(\"enter the string 2 :\")\n",
    "if len(str1) == len(str2):\n",
    "    print(\"anagrams\")\n",
    "else:\n",
    "    print(\"not anagrams\")"
   ]
  },
  {
   "cell_type": "markdown",
   "id": "1b350546",
   "metadata": {},
   "source": [
    "5. Write a code to find all the occurrences of a given substring within another string\n"
   ]
  },
  {
   "cell_type": "code",
   "execution_count": 3,
   "id": "1deb839d",
   "metadata": {},
   "outputs": [
    {
     "name": "stdout",
     "output_type": "stream",
     "text": [
      "Enter the substring : a aa aaa a\n",
      "Enter the string : a aaa a\n",
      "3\n"
     ]
    }
   ],
   "source": [
    "substring=input(\"Enter the substring : \")\n",
    "string=input(\"Enter the string : \")\n",
    "occurrence=substring.find(string)\n",
    "print(occurrence)"
   ]
  },
  {
   "cell_type": "markdown",
   "id": "b2502542",
   "metadata": {},
   "source": [
    "6. Write a code to perform basic string compression using the count of repeating characters"
   ]
  },
  {
   "cell_type": "code",
   "execution_count": 1,
   "id": "d16b19c3",
   "metadata": {},
   "outputs": [],
   "source": [
    "def compress_string(s):\n",
    "    compressed_string = []\n",
    "    count = 1\n",
    "    if not s:\n",
    "        return \"\"\n",
    "    for i in range(1, len(s)):\n",
    "        if s[i] == s[i - 1]:\n",
    "            count += 1\n",
    "        else:\n",
    "            compressed_string.append(s[i - 1] + str(count))\n",
    "            count = 1\n",
    "    compressed_string.append(s[-1] + str(count))\n",
    "    return ''.join(compressed_string)"
   ]
  },
  {
   "cell_type": "code",
   "execution_count": 2,
   "id": "778954aa",
   "metadata": {},
   "outputs": [
    {
     "data": {
      "text/plain": [
       "'a2b2c1f1c1d2'"
      ]
     },
     "execution_count": 2,
     "metadata": {},
     "output_type": "execute_result"
    }
   ],
   "source": [
    "compress_string(\"aabbcfcdd\")"
   ]
  },
  {
   "cell_type": "markdown",
   "id": "d23a174a",
   "metadata": {},
   "source": [
    "7.Write a code to determine if a string has all unique characters"
   ]
  },
  {
   "cell_type": "code",
   "execution_count": 6,
   "id": "d9656650",
   "metadata": {},
   "outputs": [],
   "source": [
    "def string(s):\n",
    "    for i in s:\n",
    "        if s.count(i)> 1:\n",
    "            return False\n",
    "        else:\n",
    "            return True\n",
    "        \n",
    "        \n"
   ]
  },
  {
   "cell_type": "code",
   "execution_count": 15,
   "id": "f2b91f64",
   "metadata": {},
   "outputs": [
    {
     "name": "stdout",
     "output_type": "stream",
     "text": [
      "False\n"
     ]
    }
   ],
   "source": [
    "print(string('abcdefa'))"
   ]
  },
  {
   "cell_type": "markdown",
   "id": "de3a183a",
   "metadata": {},
   "source": [
    "8. Write a code to convert a given string to uppercase or lowercase \n"
   ]
  },
  {
   "cell_type": "code",
   "execution_count": 13,
   "id": "c24fc98f",
   "metadata": {},
   "outputs": [],
   "source": [
    "def str_convert(a):\n",
    "    if a==a.upper():\n",
    "        return a.lower()\n",
    "    else:\n",
    "        return a.upper()\n",
    "    "
   ]
  },
  {
   "cell_type": "code",
   "execution_count": 20,
   "id": "c98bbe63",
   "metadata": {},
   "outputs": [
    {
     "data": {
      "text/plain": [
       "'shadab'"
      ]
     },
     "execution_count": 20,
     "metadata": {},
     "output_type": "execute_result"
    }
   ],
   "source": [
    "str_convert(\"SHADAB\")"
   ]
  },
  {
   "cell_type": "markdown",
   "id": "fec88c36",
   "metadata": {},
   "source": [
    "9. Write a code to count the number of words in string"
   ]
  },
  {
   "cell_type": "code",
   "execution_count": 29,
   "id": "8c7b84ed",
   "metadata": {},
   "outputs": [
    {
     "name": "stdout",
     "output_type": "stream",
     "text": [
      "Enter the words : pwskills\n",
      "8\n"
     ]
    }
   ],
   "source": [
    "string_1=input(\"Enter the words : \")\n",
    "count=0\n",
    "for i in (string_1):\n",
    "    count=count+1\n",
    "print(count)"
   ]
  },
  {
   "cell_type": "markdown",
   "id": "76e2701e",
   "metadata": {},
   "source": [
    "10. Write a code to concatenate two strings without using the + operator"
   ]
  },
  {
   "cell_type": "code",
   "execution_count": 33,
   "id": "0109dda3",
   "metadata": {},
   "outputs": [
    {
     "name": "stdout",
     "output_type": "stream",
     "text": [
      "Enter the string 1 : pw\n",
      "Enter the string 2 : skill\n",
      "pwskill\n"
     ]
    }
   ],
   "source": [
    "string_one=input(\"Enter the string 1 : \")\n",
    "string_two=input(\"Enter the string 2 : \")\n",
    "new_string=\"{}{}\".format(string_one,string_two)\n",
    "print(new_string)"
   ]
  },
  {
   "cell_type": "markdown",
   "id": "a3a62765",
   "metadata": {},
   "source": [
    "11. Write a code to remove all occurrences of a specific element from a list"
   ]
  },
  {
   "cell_type": "code",
   "execution_count": 19,
   "id": "4e3c3cf3",
   "metadata": {},
   "outputs": [
    {
     "name": "stdout",
     "output_type": "stream",
     "text": [
      "[1, 2, 3, 4, 5, 6, 7, 86, 33, 54]\n"
     ]
    }
   ],
   "source": [
    "lst=[1,2,3,4,3,2,4,5,6,7,86,5,4,33,54]\n",
    "new_lst=[]\n",
    "for i in lst:\n",
    "    if i not in new_lst:\n",
    "        new_lst.append(i)\n",
    "print(new_lst)"
   ]
  },
  {
   "cell_type": "markdown",
   "id": "795a4b93",
   "metadata": {},
   "source": [
    "12. Implement a code to find the second largest number in a given list of integers"
   ]
  },
  {
   "cell_type": "code",
   "execution_count": 20,
   "id": "d4250015",
   "metadata": {},
   "outputs": [
    {
     "name": "stdout",
     "output_type": "stream",
     "text": [
      "3\n"
     ]
    }
   ],
   "source": [
    "lst=[1,3,5,6,9,8,7]\n",
    "a=sorted(lst)\n",
    "print(a[1])\n",
    "    "
   ]
  },
  {
   "cell_type": "markdown",
   "id": "2151aac9",
   "metadata": {},
   "source": [
    "13. Create a code to count the occurrences of each element in a list and return a dictionary with elements\n",
    "as keys and their counts as values"
   ]
  },
  {
   "cell_type": "code",
   "execution_count": 26,
   "id": "660abb17",
   "metadata": {},
   "outputs": [],
   "source": [
    "def count_occurrences(lst):\n",
    "    counts = {}\n",
    "    for i in lst:\n",
    "        if i in counts:\n",
    "            counts[i] += 1\n",
    "        else:\n",
    "            counts[i] = 1\n",
    "    return counts\n"
   ]
  },
  {
   "cell_type": "code",
   "execution_count": 27,
   "id": "78af9714",
   "metadata": {},
   "outputs": [
    {
     "data": {
      "text/plain": [
       "{'a': 1, 'b': 1, 'c': 1, 'd': 1}"
      ]
     },
     "execution_count": 27,
     "metadata": {},
     "output_type": "execute_result"
    }
   ],
   "source": [
    "count_occurrences([\"a\",\"b\",\"c\",\"d\"])"
   ]
  },
  {
   "cell_type": "markdown",
   "id": "b2dc80f7",
   "metadata": {},
   "source": [
    "14. Write a code to reverse a list in-place without using any built-in reverse functions"
   ]
  },
  {
   "cell_type": "code",
   "execution_count": 82,
   "id": "0750c940",
   "metadata": {},
   "outputs": [
    {
     "name": "stdout",
     "output_type": "stream",
     "text": [
      "6 5 4 3 2 1 "
     ]
    }
   ],
   "source": [
    "lst=[1,2,3,4,5,6]\n",
    "for i in range(len(lst)-1,-1,-1):\n",
    "    print(lst[i],end=\" \")"
   ]
  },
  {
   "cell_type": "markdown",
   "id": "bc199320",
   "metadata": {},
   "source": [
    "15.Implement a code to find and remove duplicates from a list while preserving the original order of elements"
   ]
  },
  {
   "cell_type": "code",
   "execution_count": 88,
   "id": "fbe20ef0",
   "metadata": {},
   "outputs": [
    {
     "name": "stdout",
     "output_type": "stream",
     "text": [
      "[1, 2, 3, 4, 34, 23, 5, 6, 86]\n"
     ]
    }
   ],
   "source": [
    "list_=[1,1,2,3,4,3,34,2,23,5,6,86,6,6,6]\n",
    "remove_lst=[]\n",
    "for i in list_:\n",
    "    if i not in remove_lst:\n",
    "        remove_lst.append(i)\n",
    "print(remove_lst)"
   ]
  },
  {
   "cell_type": "markdown",
   "id": "5421866d",
   "metadata": {},
   "source": [
    "16.Create a code to check if a given list is sorted (either in ascending or descending order) or not"
   ]
  },
  {
   "cell_type": "code",
   "execution_count": 29,
   "id": "d680dd5b",
   "metadata": {},
   "outputs": [],
   "source": [
    "def is_sorted(lst):\n",
    "    for i in range(len(lst) - 1):\n",
    "        if lst[i] > lst[i + 1]:\n",
    "            return False\n",
    "    return True\n"
   ]
  },
  {
   "cell_type": "code",
   "execution_count": 30,
   "id": "252572c3",
   "metadata": {},
   "outputs": [
    {
     "data": {
      "text/plain": [
       "False"
      ]
     },
     "execution_count": 30,
     "metadata": {},
     "output_type": "execute_result"
    }
   ],
   "source": [
    "is_sorted([1,2,4,5,6,4])"
   ]
  },
  {
   "cell_type": "markdown",
   "id": "688b8e51",
   "metadata": {},
   "source": [
    "17.Write a code to merge two sorted lists into a single sorted list"
   ]
  },
  {
   "cell_type": "code",
   "execution_count": 47,
   "id": "549d2c72",
   "metadata": {},
   "outputs": [
    {
     "name": "stdout",
     "output_type": "stream",
     "text": [
      "[1, 2, 3, 4, 5, 6, 7, 8, 9, 10]\n"
     ]
    }
   ],
   "source": [
    "lst_1=[1,2,3,4,5]\n",
    "lst_2=[6,7,8,9,10]\n",
    "sort_lst=[]\n",
    "for i in lst_1,lst_2:\n",
    "    sort_lst.extend(i)\n",
    "print(sort_lst)"
   ]
  },
  {
   "cell_type": "markdown",
   "id": "a18053eb",
   "metadata": {},
   "source": [
    "18.Implement a code to find the intersection of two given lists"
   ]
  },
  {
   "cell_type": "code",
   "execution_count": 11,
   "id": "9bf9a848",
   "metadata": {},
   "outputs": [
    {
     "name": "stdout",
     "output_type": "stream",
     "text": [
      "{1, 2, 3, 4, 5, 6, 7, 8, 9, 10, 12}\n"
     ]
    }
   ],
   "source": [
    "lst_1=[1,2,3,4,5,3,5,7,4,9]\n",
    "lst_2=[6,7,8,9,10,12,3,2,1,6]\n",
    "intersection=[]\n",
    "for i in lst_1,lst_2:\n",
    "    if i not in intersection:\n",
    "        intersection.extend(i)\n",
    "print(set(intersection))"
   ]
  },
  {
   "cell_type": "markdown",
   "id": "f11f14ca",
   "metadata": {},
   "source": [
    "19.Create a code to find the union of two lists without duplicates"
   ]
  },
  {
   "cell_type": "code",
   "execution_count": 18,
   "id": "560fe799",
   "metadata": {},
   "outputs": [
    {
     "name": "stdout",
     "output_type": "stream",
     "text": [
      "[1, 2, 3, 4, 5, 7, 9, 44, 54, 22]\n"
     ]
    }
   ],
   "source": [
    "lst_1=[1,2,3,4,5,3,5,7,4,9]\n",
    "lst_2=[1,2,3,4,54,3,2,22,44,54]\n",
    "union=[]\n",
    "for i in lst_1,lst_2:\n",
    "    union.extend(i)\n",
    "    sets=set(union)\n",
    "print(list(sets))"
   ]
  },
  {
   "cell_type": "markdown",
   "id": "ced5a9d4",
   "metadata": {},
   "source": [
    "20.Write a code to shuffle a given list randomly without using any built-in shuffle functions"
   ]
  },
  {
   "cell_type": "code",
   "execution_count": 15,
   "id": "3c499831",
   "metadata": {},
   "outputs": [
    {
     "ename": "IndexError",
     "evalue": "list index out of range",
     "output_type": "error",
     "traceback": [
      "\u001b[1;31m---------------------------------------------------------------------------\u001b[0m",
      "\u001b[1;31mIndexError\u001b[0m                                Traceback (most recent call last)",
      "Cell \u001b[1;32mIn[15], line 5\u001b[0m\n\u001b[0;32m      3\u001b[0m \u001b[38;5;28;01mfor\u001b[39;00m i \u001b[38;5;129;01min\u001b[39;00m \u001b[38;5;28mrange\u001b[39m(n\u001b[38;5;241m-\u001b[39m\u001b[38;5;241m1\u001b[39m,\u001b[38;5;241m-\u001b[39m\u001b[38;5;241m1\u001b[39m,\u001b[38;5;241m-\u001b[39m\u001b[38;5;241m1\u001b[39m):\n\u001b[0;32m      4\u001b[0m         j \u001b[38;5;241m=\u001b[39m i \u001b[38;5;241m+\u001b[39m \u001b[38;5;241m1\u001b[39m\n\u001b[1;32m----> 5\u001b[0m         lst[i], lst[j] \u001b[38;5;241m=\u001b[39m lst[j], lst[i]\n\u001b[0;32m      7\u001b[0m \u001b[38;5;28mprint\u001b[39m(j)\n",
      "\u001b[1;31mIndexError\u001b[0m: list index out of range"
     ]
    }
   ],
   "source": [
    "lst=[1,2,3,4,5,6,7]\n",
    "n = len(lst)\n",
    "for i in range(n-1,-1,-1):\n",
    "        j = i + 1\n",
    "        lst[i], lst[j] = lst[j], lst[i]\n",
    "    \n",
    "print(j)"
   ]
  },
  {
   "cell_type": "markdown",
   "id": "e90c4e2e",
   "metadata": {},
   "source": [
    "21.Write a code that takes two tuples as input and returns a new tuple containing elements that are common to both input tuples"
   ]
  },
  {
   "cell_type": "code",
   "execution_count": 38,
   "id": "03061a4b",
   "metadata": {},
   "outputs": [
    {
     "name": "stdout",
     "output_type": "stream",
     "text": [
      "enter tuple 1 : 23423\n",
      "enter tuple 2 : 23232\n",
      "('3', '2')\n"
     ]
    }
   ],
   "source": [
    "t1=tuple(input(\"enter tuple 1 : \"))\n",
    "t2=tuple(input(\"enter tuple 2 : \"))\n",
    "new_tuple1=set(t1)\n",
    "new_tuple2=set(t2)\n",
    "common_tuple=new_tuple1 & new_tuple2\n",
    "    \n",
    "print(tuple(common_tuple))"
   ]
  },
  {
   "cell_type": "markdown",
   "id": "43e6cf35",
   "metadata": {},
   "source": [
    "22.Create a code that prompts the user to enter two sets of integers separated by commas.Then,print the intersection of these two sets"
   ]
  },
  {
   "cell_type": "code",
   "execution_count": 45,
   "id": "68de2281",
   "metadata": {},
   "outputs": [],
   "source": [
    "def get_set_from_input(prompt):\n",
    "    input_str = input(prompt)\n",
    "    return set(map(int, input_str.split(',')))\n",
    "\n",
    "def main():\n",
    "    set1 = get_set_from_input(\"Enter the first set of integers separated by commas: \")\n",
    "    set2 = get_set_from_input(\"Enter the second set of integers separated by commas: \")\n",
    "    intersection = set1 & set2\n",
    "    \n",
    "    print(\"The intersection of the two sets is:\", intersection)"
   ]
  },
  {
   "cell_type": "code",
   "execution_count": 47,
   "id": "8d59902d",
   "metadata": {},
   "outputs": [
    {
     "name": "stdout",
     "output_type": "stream",
     "text": [
      "Enter the first set of integers separated by commas: 1,2,3,4,5,6,7\n",
      "Enter the second set of integers separated by commas: 2,3,3,5,6,8,9\n",
      "The intersection of the two sets is: {2, 3, 5, 6}\n"
     ]
    }
   ],
   "source": [
    "main()"
   ]
  },
  {
   "cell_type": "markdown",
   "id": "1d76f855",
   "metadata": {},
   "source": [
    "23.Write a code to concatenate two tuples. The function should take two tuples as input and return a new tuple containing elements from both input tuples"
   ]
  },
  {
   "cell_type": "code",
   "execution_count": 49,
   "id": "060347c1",
   "metadata": {},
   "outputs": [
    {
     "name": "stdout",
     "output_type": "stream",
     "text": [
      "enter the tuple 1 1234\n",
      "enter the tuple 2 56789\n",
      "('1', '2', '3', '4', '5', '6', '7', '8', '9')\n"
     ]
    }
   ],
   "source": [
    "tuple_1=tuple(input(\"enter the tuple 1 \"))\n",
    "tuple_2=tuple(input(\"enter the tuple 2 \"))\n",
    "new=tuple_1 + tuple_2\n",
    "print(new)"
   ]
  },
  {
   "cell_type": "markdown",
   "id": "6e522003",
   "metadata": {},
   "source": [
    "24.Develop a code that prompts the user to input two sets of strings. Then, print the elements that are present in the first set but not in the second set"
   ]
  },
  {
   "cell_type": "code",
   "execution_count": 66,
   "id": "f08889e6",
   "metadata": {},
   "outputs": [],
   "source": [
    "def get_set_from_input(prompt):\n",
    "    input_str = input(prompt)\n",
    "    return (map(str, input_str.split(',')))\n",
    "\n",
    "def main():\n",
    "    set1 = set(get_set_from_input(\"Enter the first set of integers separated by commas: \"))\n",
    "    set2 = set(get_set_from_input(\"Enter the second set of integers separated by commas: \"))\n",
    "    intersection = set1.symmetric_difference(set2)\n",
    "    \n",
    "    print(\"The intersection of the two sets is:\", intersection)"
   ]
  },
  {
   "cell_type": "code",
   "execution_count": 67,
   "id": "7347addb",
   "metadata": {},
   "outputs": [
    {
     "name": "stdout",
     "output_type": "stream",
     "text": [
      "Enter the first set of integers separated by commas: abcdef\n",
      "Enter the second set of integers separated by commas: abcfjgr\n",
      "The intersection of the two sets is: {'abcdef', 'abcfjgr'}\n"
     ]
    }
   ],
   "source": [
    "main()"
   ]
  },
  {
   "cell_type": "markdown",
   "id": "e8ace8b1",
   "metadata": {},
   "source": [
    "25.Create a code that takes a tuple and two integers as input. The function should return a new tuple containing elements from the original tuple within the specified range of indices"
   ]
  },
  {
   "cell_type": "code",
   "execution_count": 70,
   "id": "ab80b3cf",
   "metadata": {},
   "outputs": [],
   "source": [
    "def subtuple_in_range(original_tuple, start_index, end_index):\n",
    "    subtuple = original_tuple[start_index:end_index]\n",
    "    return subtuple"
   ]
  },
  {
   "cell_type": "code",
   "execution_count": 71,
   "id": "aa0b1fe9",
   "metadata": {},
   "outputs": [
    {
     "data": {
      "text/plain": [
       "(2, 3, 4)"
      ]
     },
     "execution_count": 71,
     "metadata": {},
     "output_type": "execute_result"
    }
   ],
   "source": [
    "subtuple_in_range((0, 1, 2, 3, 4, 5, 6, 7, 8, 9),2,5)\n"
   ]
  },
  {
   "cell_type": "markdown",
   "id": "28e4e04f",
   "metadata": {},
   "source": [
    "26.Write a code that prompts the user to input two sets of characters. Then, print the union of these two sets"
   ]
  },
  {
   "cell_type": "code",
   "execution_count": 6,
   "id": "724de7ab",
   "metadata": {},
   "outputs": [
    {
     "name": "stdout",
     "output_type": "stream",
     "text": [
      "Enter set 1 : 12345\n",
      "Enter set 2 : 65478\n"
     ]
    },
    {
     "data": {
      "text/plain": [
       "{'1', '2', '3', '4', '5', '6', '7', '8'}"
      ]
     },
     "execution_count": 6,
     "metadata": {},
     "output_type": "execute_result"
    }
   ],
   "source": [
    "set_1=set(input(\"Enter set 1 : \"))\n",
    "set_2=set(input(\"Enter set 2 : \"))\n",
    "set_1.union(set_2)"
   ]
  },
  {
   "cell_type": "markdown",
   "id": "9c392108",
   "metadata": {},
   "source": [
    "27.Develop a code that takes a tuple of integers as input. The function should return the maximum and minimum values from the tuple using tuple unpacking"
   ]
  },
  {
   "cell_type": "code",
   "execution_count": 14,
   "id": "afdf1809",
   "metadata": {},
   "outputs": [],
   "source": [
    "def tuple_unpacking(*t):\n",
    "    min_val, max_val = t[0], t[0]\n",
    "    \n",
    "    for value in t[1:]:\n",
    "        if value < min_val:\n",
    "            min_val = value\n",
    "        if value > max_val:\n",
    "            max_val = value\n",
    "    \n",
    "    return (f\"Max_value:{max_val}, Min_Value:{min_val}\")\n",
    "    "
   ]
  },
  {
   "cell_type": "code",
   "execution_count": 15,
   "id": "e8e00707",
   "metadata": {},
   "outputs": [
    {
     "data": {
      "text/plain": [
       "'Max_value:5, Min_Value:1'"
      ]
     },
     "execution_count": 15,
     "metadata": {},
     "output_type": "execute_result"
    }
   ],
   "source": [
    "tuple_unpacking(1,2,3,4,5)"
   ]
  },
  {
   "cell_type": "markdown",
   "id": "ab85ac72",
   "metadata": {},
   "source": [
    "28.Create a code that defines two sets of integers. Then, print the union, intersection, and difference of these two sets"
   ]
  },
  {
   "cell_type": "code",
   "execution_count": 20,
   "id": "7fbf4bba",
   "metadata": {},
   "outputs": [],
   "source": [
    "def set_s(s_1=set,s_2=set):\n",
    "    union_set = s_1.union(s_2)\n",
    "    inter_set=s_1.intersection(s_2)\n",
    "    diff_set= s_1.difference(s_2)\n",
    "    \n",
    "    \n",
    "    return (\"Union\",union_set,\"Intersection\",inter_set,\"Difference\",diff_set)\n",
    "    "
   ]
  },
  {
   "cell_type": "code",
   "execution_count": 21,
   "id": "b6186583",
   "metadata": {},
   "outputs": [
    {
     "data": {
      "text/plain": [
       "('Union',\n",
       " {1, 2, 3, 4, 5, 6, 7, 9},\n",
       " 'Intersection',\n",
       " {3},\n",
       " 'Difference',\n",
       " {1, 2, 4, 5})"
      ]
     },
     "execution_count": 21,
     "metadata": {},
     "output_type": "execute_result"
    }
   ],
   "source": [
    "set_s({1,2,3,4,5},{3,6,7,9,6})"
   ]
  },
  {
   "cell_type": "markdown",
   "id": "9054fb25",
   "metadata": {},
   "source": [
    "29.Write a code that takes a tuple and an element as input. The function should return the count of occurrences of the given element in the tuple"
   ]
  },
  {
   "cell_type": "code",
   "execution_count": 43,
   "id": "5bb3c0f2",
   "metadata": {},
   "outputs": [],
   "source": [
    "def count_t(t=tuple):\n",
    "    c=0\n",
    "    for i in t:\n",
    "        c=+i\n",
    "    return c"
   ]
  },
  {
   "cell_type": "code",
   "execution_count": 44,
   "id": "a5d17f6b",
   "metadata": {},
   "outputs": [
    {
     "data": {
      "text/plain": [
       "6"
      ]
     },
     "execution_count": 44,
     "metadata": {},
     "output_type": "execute_result"
    }
   ],
   "source": [
    "count_t((1,2,3,4,5,6))"
   ]
  },
  {
   "cell_type": "markdown",
   "id": "cbac939e",
   "metadata": {},
   "source": [
    "30.Develop a code that prompts the user to input two sets of strings. Then, print the symmetric difference of these two sets"
   ]
  },
  {
   "cell_type": "code",
   "execution_count": 45,
   "id": "b40ec177",
   "metadata": {},
   "outputs": [],
   "source": [
    "def sym_diff(set_1=set,set_2=set):\n",
    "    diff=set_1.symmetric_difference(set_2)\n",
    "    return (\"the symmetric difference of two sets are \" , diff)"
   ]
  },
  {
   "cell_type": "code",
   "execution_count": 46,
   "id": "afad5587",
   "metadata": {},
   "outputs": [
    {
     "data": {
      "text/plain": [
       "('the symmetric difference of two sets are ', {1, 4, 5, 7, 8, 9})"
      ]
     },
     "execution_count": 46,
     "metadata": {},
     "output_type": "execute_result"
    }
   ],
   "source": [
    "sym_diff({1,2,3,4,5,6},{6,2,7,8,9,3})"
   ]
  },
  {
   "cell_type": "markdown",
   "id": "5a987744",
   "metadata": {},
   "source": [
    "31.Write a code that takes a list of words as input and returns a dictionary where the keys are unique words and the values are the frequencies of those words in the input list"
   ]
  },
  {
   "cell_type": "code",
   "execution_count": 62,
   "id": "0564f12a",
   "metadata": {},
   "outputs": [
    {
     "name": "stdout",
     "output_type": "stream",
     "text": [
      "{'a': 2, 'b': 2, 'c': 1, 'd': 1}\n"
     ]
    }
   ],
   "source": [
    "lst=[\"a\",\"b\",\"b\",\"c\",\"d\",\"a\"]\n",
    "dic={}\n",
    "for i in lst:\n",
    "    if i in dic:\n",
    "        dic[i]+=1\n",
    "    else:\n",
    "        dic[i]=1\n",
    "print(dic)\n"
   ]
  },
  {
   "cell_type": "markdown",
   "id": "64521860",
   "metadata": {},
   "source": [
    "32.Write a code that takes two dictionaries as input and merges them into a single dictionary. If there are common keys, the values should be added together"
   ]
  },
  {
   "cell_type": "code",
   "execution_count": 69,
   "id": "62aae8e6",
   "metadata": {},
   "outputs": [
    {
     "name": "stdout",
     "output_type": "stream",
     "text": [
      "{'a': 5, 'b': 10, 'c': 6, 'd': 7}\n"
     ]
    }
   ],
   "source": [
    "dic_1={\"a\":1,\"b\":5,\"c\":3}\n",
    "dic_2={\"a\":4,\"b\":5,\"c\":3,\"d\":7}\n",
    "merged_dict = dic_1.copy()\n",
    "for key, value in dic_2.items():\n",
    "    if key in merged_dict:\n",
    "        merged_dict[key] += value\n",
    "    else:\n",
    "        merged_dict[key] = value\n",
    "    \n",
    "print(merged_dict)"
   ]
  },
  {
   "cell_type": "markdown",
   "id": "4627017c",
   "metadata": {},
   "source": [
    "33.Write a code to access a value in a nested dictionary. The function should take the dictionary and a list of keys as input, and return the corresponding value. If any of the keys do not exist in the dictionary, the function should return None"
   ]
  },
  {
   "cell_type": "code",
   "execution_count": null,
   "id": "6f5ce808",
   "metadata": {},
   "outputs": [],
   "source": [
    "# Unable to solve this question"
   ]
  },
  {
   "cell_type": "markdown",
   "id": "15e0c73e",
   "metadata": {},
   "source": [
    "34.Write a code that takes a dictionary as input and returns a sorted version of it based on the values. You can choose whether to sort in ascending or descending order"
   ]
  },
  {
   "cell_type": "code",
   "execution_count": 22,
   "id": "86b4309c",
   "metadata": {},
   "outputs": [],
   "source": [
    "def sort_dict_by_value(input_dict, ascending=True):\n",
    "    sorted_items = sorted(input_dict.items(), key=lambda item: item[1], reverse=not ascending)\n",
    "    return dict(sorted_items)"
   ]
  },
  {
   "cell_type": "code",
   "execution_count": 23,
   "id": "b1d6a942",
   "metadata": {},
   "outputs": [
    {
     "data": {
      "text/plain": [
       "{'date': 1, 'banana': 2, 'apple': 5, 'cherry': 8}"
      ]
     },
     "execution_count": 23,
     "metadata": {},
     "output_type": "execute_result"
    }
   ],
   "source": [
    "sort_dict_by_value({'apple': 5,'banana': 2,'cherry': 8,'date': 1})"
   ]
  },
  {
   "cell_type": "markdown",
   "id": "3c387994",
   "metadata": {},
   "source": [
    "35.Write a code that inverts a dictionary, swapping keys and values. Ensure that the inverted dictionary correctly handles cases where multiple keys have the same value by storing the keys as a list in the inverted dictionary."
   ]
  },
  {
   "cell_type": "code",
   "execution_count": 24,
   "id": "8e5b6753",
   "metadata": {},
   "outputs": [],
   "source": [
    "def invert_dict(dic):\n",
    "    inverted_dic = {}\n",
    "    for key, value in dic.items():\n",
    "        if value in inverted_dic:\n",
    "            if isinstance(inverted_dic[value], list):\n",
    "                inverted_dic[value].append(key)\n",
    "            else:\n",
    "                inverted_dic[value] = [inverted_dic[value], key]\n",
    "        else:\n",
    "            inverted_dic[value] = key\n",
    "    return inverted_dic"
   ]
  },
  {
   "cell_type": "code",
   "execution_count": 25,
   "id": "aadd7c33",
   "metadata": {},
   "outputs": [
    {
     "data": {
      "text/plain": [
       "{10: ['x', 'z'], 20: ['y', 'v'], 30: 'w'}"
      ]
     },
     "execution_count": 25,
     "metadata": {},
     "output_type": "execute_result"
    }
   ],
   "source": [
    "invert_dict({'x': 10,'y': 20,'z': 10,'w': 30,'v': 20})"
   ]
  },
  {
   "cell_type": "code",
   "execution_count": null,
   "id": "29302ce2",
   "metadata": {},
   "outputs": [],
   "source": []
  }
 ],
 "metadata": {
  "kernelspec": {
   "display_name": "Python 3 (ipykernel)",
   "language": "python",
   "name": "python3"
  },
  "language_info": {
   "codemirror_mode": {
    "name": "ipython",
    "version": 3
   },
   "file_extension": ".py",
   "mimetype": "text/x-python",
   "name": "python",
   "nbconvert_exporter": "python",
   "pygments_lexer": "ipython3",
   "version": "3.11.5"
  }
 },
 "nbformat": 4,
 "nbformat_minor": 5
}
